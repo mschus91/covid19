{
 "cells": [
  {
   "cell_type": "code",
   "execution_count": 1,
   "metadata": {},
   "outputs": [],
   "source": [
    "# import libraries\n",
    "\n",
    "import pandas as pd\n",
    "import numpy as np\n",
    "import seaborn as sns\n",
    "import matplotlib.pyplot as plt"
   ]
  },
  {
   "cell_type": "code",
   "execution_count": 5,
   "metadata": {},
   "outputs": [],
   "source": [
    "# read file\n",
    "\n",
    "data = pd.read_csv('total-cases-covid-19_python.csv')\n",
    "deaths = pd.read_csv('total-deaths-covid-19_python.csv')"
   ]
  },
  {
   "cell_type": "code",
   "execution_count": 15,
   "metadata": {},
   "outputs": [
    {
     "data": {
      "text/html": [
       "<div>\n",
       "<style scoped>\n",
       "    .dataframe tbody tr th:only-of-type {\n",
       "        vertical-align: middle;\n",
       "    }\n",
       "\n",
       "    .dataframe tbody tr th {\n",
       "        vertical-align: top;\n",
       "    }\n",
       "\n",
       "    .dataframe thead th {\n",
       "        text-align: right;\n",
       "    }\n",
       "</style>\n",
       "<table border=\"1\" class=\"dataframe\">\n",
       "  <thead>\n",
       "    <tr style=\"text-align: right;\">\n",
       "      <th></th>\n",
       "      <th>Entity</th>\n",
       "      <th>Code</th>\n",
       "      <th>Date</th>\n",
       "      <th>Total confirmed cases of COVID-19 (cases)</th>\n",
       "      <th>Deaths</th>\n",
       "    </tr>\n",
       "  </thead>\n",
       "  <tbody>\n",
       "    <tr>\n",
       "      <th>8003</th>\n",
       "      <td>United Kingdom</td>\n",
       "      <td>GBR</td>\n",
       "      <td>Mar 29, 2020</td>\n",
       "      <td>17089</td>\n",
       "      <td>1019</td>\n",
       "    </tr>\n",
       "    <tr>\n",
       "      <th>8004</th>\n",
       "      <td>United Kingdom</td>\n",
       "      <td>GBR</td>\n",
       "      <td>Mar 30, 2020</td>\n",
       "      <td>19522</td>\n",
       "      <td>1228</td>\n",
       "    </tr>\n",
       "    <tr>\n",
       "      <th>8005</th>\n",
       "      <td>United Kingdom</td>\n",
       "      <td>GBR</td>\n",
       "      <td>Mar 31, 2020</td>\n",
       "      <td>22141</td>\n",
       "      <td>1408</td>\n",
       "    </tr>\n",
       "    <tr>\n",
       "      <th>8006</th>\n",
       "      <td>United Kingdom</td>\n",
       "      <td>GBR</td>\n",
       "      <td>Apr 1, 2020</td>\n",
       "      <td>25150</td>\n",
       "      <td>1789</td>\n",
       "    </tr>\n",
       "    <tr>\n",
       "      <th>8007</th>\n",
       "      <td>United Kingdom</td>\n",
       "      <td>GBR</td>\n",
       "      <td>Apr 2, 2020</td>\n",
       "      <td>29474</td>\n",
       "      <td>2532</td>\n",
       "    </tr>\n",
       "  </tbody>\n",
       "</table>\n",
       "</div>"
      ],
      "text/plain": [
       "              Entity Code          Date  \\\n",
       "8003  United Kingdom  GBR  Mar 29, 2020   \n",
       "8004  United Kingdom  GBR  Mar 30, 2020   \n",
       "8005  United Kingdom  GBR  Mar 31, 2020   \n",
       "8006  United Kingdom  GBR   Apr 1, 2020   \n",
       "8007  United Kingdom  GBR   Apr 2, 2020   \n",
       "\n",
       "      Total confirmed cases of COVID-19 (cases)  Deaths  \n",
       "8003                                      17089    1019  \n",
       "8004                                      19522    1228  \n",
       "8005                                      22141    1408  \n",
       "8006                                      25150    1789  \n",
       "8007                                      29474    2532  "
      ]
     },
     "execution_count": 15,
     "metadata": {},
     "output_type": "execute_result"
    }
   ],
   "source": [
    "Deaths_col = deaths['Total confirmed deaths due to COVID-19 (deaths)']\n",
    "data['Deaths'] = Deaths_col\n",
    "data.tail()"
   ]
  },
  {
   "cell_type": "code",
   "execution_count": 16,
   "metadata": {},
   "outputs": [
    {
     "data": {
      "text/html": [
       "<div>\n",
       "<style scoped>\n",
       "    .dataframe tbody tr th:only-of-type {\n",
       "        vertical-align: middle;\n",
       "    }\n",
       "\n",
       "    .dataframe tbody tr th {\n",
       "        vertical-align: top;\n",
       "    }\n",
       "\n",
       "    .dataframe thead th {\n",
       "        text-align: right;\n",
       "    }\n",
       "</style>\n",
       "<table border=\"1\" class=\"dataframe\">\n",
       "  <thead>\n",
       "    <tr style=\"text-align: right;\">\n",
       "      <th></th>\n",
       "      <th>Entity</th>\n",
       "      <th>Code</th>\n",
       "      <th>Date</th>\n",
       "      <th>Total confirmed cases of COVID-19 (cases)</th>\n",
       "      <th>Deaths</th>\n",
       "    </tr>\n",
       "  </thead>\n",
       "  <tbody>\n",
       "    <tr>\n",
       "      <th>8003</th>\n",
       "      <td>United Kingdom</td>\n",
       "      <td>GBR</td>\n",
       "      <td>Mar 29, 2020</td>\n",
       "      <td>17089</td>\n",
       "      <td>1019</td>\n",
       "    </tr>\n",
       "    <tr>\n",
       "      <th>8004</th>\n",
       "      <td>United Kingdom</td>\n",
       "      <td>GBR</td>\n",
       "      <td>Mar 30, 2020</td>\n",
       "      <td>19522</td>\n",
       "      <td>1228</td>\n",
       "    </tr>\n",
       "    <tr>\n",
       "      <th>8005</th>\n",
       "      <td>United Kingdom</td>\n",
       "      <td>GBR</td>\n",
       "      <td>Mar 31, 2020</td>\n",
       "      <td>22141</td>\n",
       "      <td>1408</td>\n",
       "    </tr>\n",
       "    <tr>\n",
       "      <th>8006</th>\n",
       "      <td>United Kingdom</td>\n",
       "      <td>GBR</td>\n",
       "      <td>Apr 1, 2020</td>\n",
       "      <td>25150</td>\n",
       "      <td>1789</td>\n",
       "    </tr>\n",
       "    <tr>\n",
       "      <th>8007</th>\n",
       "      <td>United Kingdom</td>\n",
       "      <td>GBR</td>\n",
       "      <td>Apr 2, 2020</td>\n",
       "      <td>29474</td>\n",
       "      <td>2532</td>\n",
       "    </tr>\n",
       "  </tbody>\n",
       "</table>\n",
       "</div>"
      ],
      "text/plain": [
       "              Entity Code          Date  \\\n",
       "8003  United Kingdom  GBR  Mar 29, 2020   \n",
       "8004  United Kingdom  GBR  Mar 30, 2020   \n",
       "8005  United Kingdom  GBR  Mar 31, 2020   \n",
       "8006  United Kingdom  GBR   Apr 1, 2020   \n",
       "8007  United Kingdom  GBR   Apr 2, 2020   \n",
       "\n",
       "      Total confirmed cases of COVID-19 (cases)  Deaths  \n",
       "8003                                      17089    1019  \n",
       "8004                                      19522    1228  \n",
       "8005                                      22141    1408  \n",
       "8006                                      25150    1789  \n",
       "8007                                      29474    2532  "
      ]
     },
     "execution_count": 16,
     "metadata": {},
     "output_type": "execute_result"
    }
   ],
   "source": [
    "# filter uk only\n",
    "\n",
    "data = data[data.Entity == 'United Kingdom']\n",
    "data.tail()"
   ]
  },
  {
   "cell_type": "code",
   "execution_count": 17,
   "metadata": {},
   "outputs": [],
   "source": [
    "# create new cases column\n",
    "\n",
    "new_cases = data['Total confirmed cases of COVID-19 (cases)'].diff()\n",
    "new_deaths = data['Deaths'].diff()"
   ]
  },
  {
   "cell_type": "code",
   "execution_count": 18,
   "metadata": {},
   "outputs": [
    {
     "data": {
      "text/html": [
       "<div>\n",
       "<style scoped>\n",
       "    .dataframe tbody tr th:only-of-type {\n",
       "        vertical-align: middle;\n",
       "    }\n",
       "\n",
       "    .dataframe tbody tr th {\n",
       "        vertical-align: top;\n",
       "    }\n",
       "\n",
       "    .dataframe thead th {\n",
       "        text-align: right;\n",
       "    }\n",
       "</style>\n",
       "<table border=\"1\" class=\"dataframe\">\n",
       "  <thead>\n",
       "    <tr style=\"text-align: right;\">\n",
       "      <th></th>\n",
       "      <th>Entity</th>\n",
       "      <th>Code</th>\n",
       "      <th>Date</th>\n",
       "      <th>Total confirmed cases of COVID-19 (cases)</th>\n",
       "      <th>Deaths</th>\n",
       "      <th>new_cases</th>\n",
       "    </tr>\n",
       "  </thead>\n",
       "  <tbody>\n",
       "    <tr>\n",
       "      <th>8003</th>\n",
       "      <td>United Kingdom</td>\n",
       "      <td>GBR</td>\n",
       "      <td>Mar 29, 2020</td>\n",
       "      <td>17089</td>\n",
       "      <td>260.0</td>\n",
       "      <td>2546.0</td>\n",
       "    </tr>\n",
       "    <tr>\n",
       "      <th>8004</th>\n",
       "      <td>United Kingdom</td>\n",
       "      <td>GBR</td>\n",
       "      <td>Mar 30, 2020</td>\n",
       "      <td>19522</td>\n",
       "      <td>209.0</td>\n",
       "      <td>2433.0</td>\n",
       "    </tr>\n",
       "    <tr>\n",
       "      <th>8005</th>\n",
       "      <td>United Kingdom</td>\n",
       "      <td>GBR</td>\n",
       "      <td>Mar 31, 2020</td>\n",
       "      <td>22141</td>\n",
       "      <td>180.0</td>\n",
       "      <td>2619.0</td>\n",
       "    </tr>\n",
       "    <tr>\n",
       "      <th>8006</th>\n",
       "      <td>United Kingdom</td>\n",
       "      <td>GBR</td>\n",
       "      <td>Apr 1, 2020</td>\n",
       "      <td>25150</td>\n",
       "      <td>381.0</td>\n",
       "      <td>3009.0</td>\n",
       "    </tr>\n",
       "    <tr>\n",
       "      <th>8007</th>\n",
       "      <td>United Kingdom</td>\n",
       "      <td>GBR</td>\n",
       "      <td>Apr 2, 2020</td>\n",
       "      <td>29474</td>\n",
       "      <td>743.0</td>\n",
       "      <td>4324.0</td>\n",
       "    </tr>\n",
       "  </tbody>\n",
       "</table>\n",
       "</div>"
      ],
      "text/plain": [
       "              Entity Code          Date  \\\n",
       "8003  United Kingdom  GBR  Mar 29, 2020   \n",
       "8004  United Kingdom  GBR  Mar 30, 2020   \n",
       "8005  United Kingdom  GBR  Mar 31, 2020   \n",
       "8006  United Kingdom  GBR   Apr 1, 2020   \n",
       "8007  United Kingdom  GBR   Apr 2, 2020   \n",
       "\n",
       "      Total confirmed cases of COVID-19 (cases)  Deaths  new_cases  \n",
       "8003                                      17089   260.0     2546.0  \n",
       "8004                                      19522   209.0     2433.0  \n",
       "8005                                      22141   180.0     2619.0  \n",
       "8006                                      25150   381.0     3009.0  \n",
       "8007                                      29474   743.0     4324.0  "
      ]
     },
     "execution_count": 18,
     "metadata": {},
     "output_type": "execute_result"
    }
   ],
   "source": [
    "# join with dataframe\n",
    "\n",
    "data['new_cases'] = new_cases\n",
    "data['Deaths'] = new_deaths\n",
    "data.tail()"
   ]
  },
  {
   "cell_type": "code",
   "execution_count": 19,
   "metadata": {},
   "outputs": [
    {
     "data": {
      "text/html": [
       "<div>\n",
       "<style scoped>\n",
       "    .dataframe tbody tr th:only-of-type {\n",
       "        vertical-align: middle;\n",
       "    }\n",
       "\n",
       "    .dataframe tbody tr th {\n",
       "        vertical-align: top;\n",
       "    }\n",
       "\n",
       "    .dataframe thead th {\n",
       "        text-align: right;\n",
       "    }\n",
       "</style>\n",
       "<table border=\"1\" class=\"dataframe\">\n",
       "  <thead>\n",
       "    <tr style=\"text-align: right;\">\n",
       "      <th></th>\n",
       "      <th>Entity</th>\n",
       "      <th>Code</th>\n",
       "      <th>Date</th>\n",
       "      <th>Total confirmed cases of COVID-19 (cases)</th>\n",
       "      <th>Deaths</th>\n",
       "      <th>new_cases</th>\n",
       "    </tr>\n",
       "  </thead>\n",
       "  <tbody>\n",
       "    <tr>\n",
       "      <th>7980</th>\n",
       "      <td>United Kingdom</td>\n",
       "      <td>GBR</td>\n",
       "      <td>Mar 6, 2020</td>\n",
       "      <td>115</td>\n",
       "      <td>1.0</td>\n",
       "      <td>30.0</td>\n",
       "    </tr>\n",
       "    <tr>\n",
       "      <th>7981</th>\n",
       "      <td>United Kingdom</td>\n",
       "      <td>GBR</td>\n",
       "      <td>Mar 7, 2020</td>\n",
       "      <td>163</td>\n",
       "      <td>0.0</td>\n",
       "      <td>48.0</td>\n",
       "    </tr>\n",
       "    <tr>\n",
       "      <th>7982</th>\n",
       "      <td>United Kingdom</td>\n",
       "      <td>GBR</td>\n",
       "      <td>Mar 8, 2020</td>\n",
       "      <td>206</td>\n",
       "      <td>1.0</td>\n",
       "      <td>43.0</td>\n",
       "    </tr>\n",
       "    <tr>\n",
       "      <th>7983</th>\n",
       "      <td>United Kingdom</td>\n",
       "      <td>GBR</td>\n",
       "      <td>Mar 9, 2020</td>\n",
       "      <td>273</td>\n",
       "      <td>1.0</td>\n",
       "      <td>67.0</td>\n",
       "    </tr>\n",
       "    <tr>\n",
       "      <th>7984</th>\n",
       "      <td>United Kingdom</td>\n",
       "      <td>GBR</td>\n",
       "      <td>Mar 10, 2020</td>\n",
       "      <td>321</td>\n",
       "      <td>2.0</td>\n",
       "      <td>48.0</td>\n",
       "    </tr>\n",
       "  </tbody>\n",
       "</table>\n",
       "</div>"
      ],
      "text/plain": [
       "              Entity Code          Date  \\\n",
       "7980  United Kingdom  GBR   Mar 6, 2020   \n",
       "7981  United Kingdom  GBR   Mar 7, 2020   \n",
       "7982  United Kingdom  GBR   Mar 8, 2020   \n",
       "7983  United Kingdom  GBR   Mar 9, 2020   \n",
       "7984  United Kingdom  GBR  Mar 10, 2020   \n",
       "\n",
       "      Total confirmed cases of COVID-19 (cases)  Deaths  new_cases  \n",
       "7980                                        115     1.0       30.0  \n",
       "7981                                        163     0.0       48.0  \n",
       "7982                                        206     1.0       43.0  \n",
       "7983                                        273     1.0       67.0  \n",
       "7984                                        321     2.0       48.0  "
      ]
     },
     "execution_count": 19,
     "metadata": {},
     "output_type": "execute_result"
    }
   ],
   "source": [
    "# filter days before case 100th\n",
    "\n",
    "data = data[data['Total confirmed cases of COVID-19 (cases)'] > 100]\n",
    "data.head()"
   ]
  },
  {
   "cell_type": "code",
   "execution_count": 20,
   "metadata": {},
   "outputs": [],
   "source": [
    "# convert Data column to datetime type\n",
    "\n",
    "data.Date= pd.to_datetime(data.Date)"
   ]
  },
  {
   "cell_type": "code",
   "execution_count": 25,
   "metadata": {},
   "outputs": [
    {
     "data": {
      "text/plain": [
       "Text(0.5, 1.0, 'Daily new cases in UK since case 100')"
      ]
     },
     "execution_count": 25,
     "metadata": {},
     "output_type": "execute_result"
    },
    {
     "data": {
      "image/png": "[encoded data removed]",
      "text/plain": [
       "<Figure size 432x288 with 1 Axes>"
      ]
     },
     "metadata": {},
     "output_type": "display_data"
    }
   ],
   "source": [
    "# plot new_cases by date\n",
    "\n",
    "sns.set(style = \"darkgrid\")\n",
    "fig = sns.lineplot(x = \"Date\", y = \"new_cases\", data = data)\n",
    "plt.xticks(rotation = 45)\n",
    "plt.title('Daily new cases in UK since case 100')"
   ]
  },
  {
   "cell_type": "code",
   "execution_count": 26,
   "metadata": {},
   "outputs": [
    {
     "data": {
      "text/plain": [
       "Text(0.5, 1.0, 'Daily new deaths in UK since case 100')"
      ]
     },
     "execution_count": 26,
     "metadata": {},
     "output_type": "execute_result"
    },
    {
     "data": {
      "image/png": "[encoded data removed]",
      "text/plain": [
       "<Figure size 432x288 with 1 Axes>"
      ]
     },
     "metadata": {},
     "output_type": "display_data"
    }
   ],
   "source": [
    "# plot deaths by date\n",
    "\n",
    "sns.set(style = \"darkgrid\")\n",
    "fig = sns.lineplot(x = \"Date\", y = \"Deaths\", data = data)\n",
    "plt.xticks(rotation = 45)\n",
    "plt.title('Daily new deaths in UK since case 100')"
   ]
  },
  {
   "cell_type": "code",
   "execution_count": null,
   "metadata": {},
   "outputs": [],
   "source": []
  }
 ],
 "metadata": {
  "kernelspec": {
   "display_name": "Python 3",
   "language": "python",
   "name": "python3"
  },
  "language_info": {
   "codemirror_mode": {
    "name": "ipython",
    "version": 3
   },
   "file_extension": ".py",
   "mimetype": "text/x-python",
   "name": "python",
   "nbconvert_exporter": "python",
   "pygments_lexer": "ipython3",
   "version": "3.7.3"
  }
 },
 "nbformat": 4,
 "nbformat_minor": 4
}
